{
 "cells": [
  {
   "cell_type": "code",
   "execution_count": 4,
   "id": "cf3cdfb8",
   "metadata": {},
   "outputs": [],
   "source": [
    "# Imports\n",
    "\n",
    "import joblib\n",
    "import sklearn\n",
    "import numpy as np\n",
    "import pandas as pd\n",
    "import lightgbm as lgb\n",
    "from sklearn.model_selection import train_test_split\n",
    "from sklearn.ensemble import RandomForestClassifier\n",
    "from sklearn.metrics import accuracy_score, roc_auc_score, classification_report\n",
    "from sklearn.preprocessing import StandardScaler\n",
    "from sklearn.utils import resample\n",
    "from imblearn.over_sampling import SMOTE"
   ]
  },
  {
   "cell_type": "code",
   "execution_count": 5,
   "id": "ccda7673",
   "metadata": {},
   "outputs": [
    {
     "name": "stdout",
     "output_type": "stream",
     "text": [
      "Author: Marcelo Medeiros | Cientista de Dados\n",
      "\n"
     ]
    }
   ],
   "source": [
    "%reload_ext watermark\n",
    "%watermark -a \"Marcelo Medeiros | Cientista de Dados\""
   ]
  },
  {
   "cell_type": "markdown",
   "id": "702f0ebc",
   "metadata": {},
   "source": [
    "### Carregando os Dados"
   ]
  },
  {
   "cell_type": "code",
   "execution_count": 6,
   "id": "690bee2d",
   "metadata": {},
   "outputs": [],
   "source": [
    "# Data\n",
    "df = pd.read_csv(\"dataset.csv\")"
   ]
  },
  {
   "cell_type": "code",
   "execution_count": 7,
   "id": "0e0e4c78",
   "metadata": {},
   "outputs": [
    {
     "data": {
      "text/plain": [
       "(10000, 6)"
      ]
     },
     "execution_count": 7,
     "metadata": {},
     "output_type": "execute_result"
    }
   ],
   "source": [
    "df.shape"
   ]
  },
  {
   "cell_type": "code",
   "execution_count": 8,
   "id": "db24e39e",
   "metadata": {},
   "outputs": [
    {
     "data": {
      "text/html": [
       "<div>\n",
       "<style scoped>\n",
       "    .dataframe tbody tr th:only-of-type {\n",
       "        vertical-align: middle;\n",
       "    }\n",
       "\n",
       "    .dataframe tbody tr th {\n",
       "        vertical-align: top;\n",
       "    }\n",
       "\n",
       "    .dataframe thead th {\n",
       "        text-align: right;\n",
       "    }\n",
       "</style>\n",
       "<table border=\"1\" class=\"dataframe\">\n",
       "  <thead>\n",
       "    <tr style=\"text-align: right;\">\n",
       "      <th></th>\n",
       "      <th>vibracao</th>\n",
       "      <th>temperatura</th>\n",
       "      <th>pressao</th>\n",
       "      <th>umidade</th>\n",
       "      <th>horas_trabalho</th>\n",
       "      <th>manutencao_necessaria</th>\n",
       "    </tr>\n",
       "  </thead>\n",
       "  <tbody>\n",
       "    <tr>\n",
       "      <th>0</th>\n",
       "      <td>0.250951</td>\n",
       "      <td>92.419225</td>\n",
       "      <td>100.311847</td>\n",
       "      <td>67.596275</td>\n",
       "      <td>7499</td>\n",
       "      <td>0</td>\n",
       "    </tr>\n",
       "    <tr>\n",
       "      <th>1</th>\n",
       "      <td>0.895355</td>\n",
       "      <td>69.132552</td>\n",
       "      <td>96.137413</td>\n",
       "      <td>70.454398</td>\n",
       "      <td>600</td>\n",
       "      <td>0</td>\n",
       "    </tr>\n",
       "    <tr>\n",
       "      <th>2</th>\n",
       "      <td>0.564789</td>\n",
       "      <td>66.456903</td>\n",
       "      <td>93.642299</td>\n",
       "      <td>31.822434</td>\n",
       "      <td>6919</td>\n",
       "      <td>0</td>\n",
       "    </tr>\n",
       "    <tr>\n",
       "      <th>3</th>\n",
       "      <td>0.853165</td>\n",
       "      <td>81.967579</td>\n",
       "      <td>101.924996</td>\n",
       "      <td>46.543886</td>\n",
       "      <td>4032</td>\n",
       "      <td>1</td>\n",
       "    </tr>\n",
       "    <tr>\n",
       "      <th>4</th>\n",
       "      <td>2.143944</td>\n",
       "      <td>60.097525</td>\n",
       "      <td>97.527537</td>\n",
       "      <td>50.129838</td>\n",
       "      <td>8036</td>\n",
       "      <td>0</td>\n",
       "    </tr>\n",
       "  </tbody>\n",
       "</table>\n",
       "</div>"
      ],
      "text/plain": [
       "   vibracao  temperatura     pressao    umidade  horas_trabalho  \\\n",
       "0  0.250951    92.419225  100.311847  67.596275            7499   \n",
       "1  0.895355    69.132552   96.137413  70.454398             600   \n",
       "2  0.564789    66.456903   93.642299  31.822434            6919   \n",
       "3  0.853165    81.967579  101.924996  46.543886            4032   \n",
       "4  2.143944    60.097525   97.527537  50.129838            8036   \n",
       "\n",
       "   manutencao_necessaria  \n",
       "0                      0  \n",
       "1                      0  \n",
       "2                      0  \n",
       "3                      1  \n",
       "4                      0  "
      ]
     },
     "execution_count": 8,
     "metadata": {},
     "output_type": "execute_result"
    }
   ],
   "source": [
    "df.head()"
   ]
  },
  {
   "cell_type": "code",
   "execution_count": 9,
   "id": "930b29d2",
   "metadata": {},
   "outputs": [
    {
     "name": "stdout",
     "output_type": "stream",
     "text": [
      "<class 'pandas.core.frame.DataFrame'>\n",
      "RangeIndex: 10000 entries, 0 to 9999\n",
      "Data columns (total 6 columns):\n",
      " #   Column                 Non-Null Count  Dtype  \n",
      "---  ------                 --------------  -----  \n",
      " 0   vibracao               10000 non-null  float64\n",
      " 1   temperatura            10000 non-null  float64\n",
      " 2   pressao                10000 non-null  float64\n",
      " 3   umidade                10000 non-null  float64\n",
      " 4   horas_trabalho         10000 non-null  int64  \n",
      " 5   manutencao_necessaria  10000 non-null  int64  \n",
      "dtypes: float64(4), int64(2)\n",
      "memory usage: 468.9 KB\n"
     ]
    }
   ],
   "source": [
    "# Info\n",
    "df.info()"
   ]
  },
  {
   "cell_type": "code",
   "execution_count": 10,
   "id": "e8828a7f",
   "metadata": {},
   "outputs": [
    {
     "data": {
      "text/plain": [
       "manutencao_necessaria\n",
       "1    5517\n",
       "0    4483\n",
       "Name: count, dtype: int64"
      ]
     },
     "execution_count": 10,
     "metadata": {},
     "output_type": "execute_result"
    }
   ],
   "source": [
    "# Prorpoção de Classe\n",
    "df.manutencao_necessaria.value_counts()"
   ]
  },
  {
   "cell_type": "markdown",
   "id": "c52a964c",
   "metadata": {},
   "source": [
    "- 1 é a classe positiva (foi necessário manutenção na máquina)\n",
    "- 0 é a classe negativa (não foi necessário manutenção na máquina)"
   ]
  },
  {
   "cell_type": "markdown",
   "id": "dc53bece",
   "metadata": {},
   "source": [
    "### Preparação dos Dados"
   ]
  },
  {
   "cell_type": "code",
   "execution_count": 11,
   "id": "282fed44",
   "metadata": {},
   "outputs": [],
   "source": [
    "# Separando variáveis explicativas e a alvo\n",
    "X = df.drop(\"manutencao_necessaria\", axis=1)\n",
    "y = df[\"manutencao_necessaria\"]"
   ]
  },
  {
   "cell_type": "code",
   "execution_count": 12,
   "id": "5f973a3f",
   "metadata": {},
   "outputs": [],
   "source": [
    "# Dividir os dados em conjunto de treino e teste (80% treino, 20% teste)\n",
    "X_train, X_test, y_train, y_test = train_test_split(X, y, test_size = 0.2, random_state = 42)"
   ]
  },
  {
   "cell_type": "markdown",
   "id": "0c645518",
   "metadata": {},
   "source": [
    "#### Opção 1 - Ajuste de Pesos no Modelo (Sem Reamostragem)"
   ]
  },
  {
   "cell_type": "code",
   "execution_count": 13,
   "id": "999adfb4",
   "metadata": {},
   "outputs": [],
   "source": [
    "scaler_v1 = StandardScaler()\n",
    "X_train_scaled = scaler_v1.fit_transform(X_train)\n",
    "X_test_scaled = scaler_v1.transform(X_test)"
   ]
  },
  {
   "cell_type": "code",
   "execution_count": 14,
   "id": "49eee2c0",
   "metadata": {},
   "outputs": [],
   "source": [
    "# Instanciar o modelo com ajuste de pesos\n",
    "modelo_v1 = RandomForestClassifier(n_estimators=100,\n",
    "                                   random_state=42,\n",
    "                                   class_weight='balanced')"
   ]
  },
  {
   "cell_type": "code",
   "execution_count": 15,
   "id": "9b7eaa94",
   "metadata": {},
   "outputs": [
    {
     "name": "stdout",
     "output_type": "stream",
     "text": [
      "CPU times: total: 2.69 s\n",
      "Wall time: 3.78 s\n"
     ]
    },
    {
     "data": {
      "text/html": [
       "<style>#sk-container-id-1 {color: black;}#sk-container-id-1 pre{padding: 0;}#sk-container-id-1 div.sk-toggleable {background-color: white;}#sk-container-id-1 label.sk-toggleable__label {cursor: pointer;display: block;width: 100%;margin-bottom: 0;padding: 0.3em;box-sizing: border-box;text-align: center;}#sk-container-id-1 label.sk-toggleable__label-arrow:before {content: \"▸\";float: left;margin-right: 0.25em;color: #696969;}#sk-container-id-1 label.sk-toggleable__label-arrow:hover:before {color: black;}#sk-container-id-1 div.sk-estimator:hover label.sk-toggleable__label-arrow:before {color: black;}#sk-container-id-1 div.sk-toggleable__content {max-height: 0;max-width: 0;overflow: hidden;text-align: left;background-color: #f0f8ff;}#sk-container-id-1 div.sk-toggleable__content pre {margin: 0.2em;color: black;border-radius: 0.25em;background-color: #f0f8ff;}#sk-container-id-1 input.sk-toggleable__control:checked~div.sk-toggleable__content {max-height: 200px;max-width: 100%;overflow: auto;}#sk-container-id-1 input.sk-toggleable__control:checked~label.sk-toggleable__label-arrow:before {content: \"▾\";}#sk-container-id-1 div.sk-estimator input.sk-toggleable__control:checked~label.sk-toggleable__label {background-color: #d4ebff;}#sk-container-id-1 div.sk-label input.sk-toggleable__control:checked~label.sk-toggleable__label {background-color: #d4ebff;}#sk-container-id-1 input.sk-hidden--visually {border: 0;clip: rect(1px 1px 1px 1px);clip: rect(1px, 1px, 1px, 1px);height: 1px;margin: -1px;overflow: hidden;padding: 0;position: absolute;width: 1px;}#sk-container-id-1 div.sk-estimator {font-family: monospace;background-color: #f0f8ff;border: 1px dotted black;border-radius: 0.25em;box-sizing: border-box;margin-bottom: 0.5em;}#sk-container-id-1 div.sk-estimator:hover {background-color: #d4ebff;}#sk-container-id-1 div.sk-parallel-item::after {content: \"\";width: 100%;border-bottom: 1px solid gray;flex-grow: 1;}#sk-container-id-1 div.sk-label:hover label.sk-toggleable__label {background-color: #d4ebff;}#sk-container-id-1 div.sk-serial::before {content: \"\";position: absolute;border-left: 1px solid gray;box-sizing: border-box;top: 0;bottom: 0;left: 50%;z-index: 0;}#sk-container-id-1 div.sk-serial {display: flex;flex-direction: column;align-items: center;background-color: white;padding-right: 0.2em;padding-left: 0.2em;position: relative;}#sk-container-id-1 div.sk-item {position: relative;z-index: 1;}#sk-container-id-1 div.sk-parallel {display: flex;align-items: stretch;justify-content: center;background-color: white;position: relative;}#sk-container-id-1 div.sk-item::before, #sk-container-id-1 div.sk-parallel-item::before {content: \"\";position: absolute;border-left: 1px solid gray;box-sizing: border-box;top: 0;bottom: 0;left: 50%;z-index: -1;}#sk-container-id-1 div.sk-parallel-item {display: flex;flex-direction: column;z-index: 1;position: relative;background-color: white;}#sk-container-id-1 div.sk-parallel-item:first-child::after {align-self: flex-end;width: 50%;}#sk-container-id-1 div.sk-parallel-item:last-child::after {align-self: flex-start;width: 50%;}#sk-container-id-1 div.sk-parallel-item:only-child::after {width: 0;}#sk-container-id-1 div.sk-dashed-wrapped {border: 1px dashed gray;margin: 0 0.4em 0.5em 0.4em;box-sizing: border-box;padding-bottom: 0.4em;background-color: white;}#sk-container-id-1 div.sk-label label {font-family: monospace;font-weight: bold;display: inline-block;line-height: 1.2em;}#sk-container-id-1 div.sk-label-container {text-align: center;}#sk-container-id-1 div.sk-container {/* jupyter's `normalize.less` sets `[hidden] { display: none; }` but bootstrap.min.css set `[hidden] { display: none !important; }` so we also need the `!important` here to be able to override the default hidden behavior on the sphinx rendered scikit-learn.org. See: https://github.com/scikit-learn/scikit-learn/issues/21755 */display: inline-block !important;position: relative;}#sk-container-id-1 div.sk-text-repr-fallback {display: none;}</style><div id=\"sk-container-id-1\" class=\"sk-top-container\"><div class=\"sk-text-repr-fallback\"><pre>RandomForestClassifier(class_weight=&#x27;balanced&#x27;, random_state=42)</pre><b>In a Jupyter environment, please rerun this cell to show the HTML representation or trust the notebook. <br />On GitHub, the HTML representation is unable to render, please try loading this page with nbviewer.org.</b></div><div class=\"sk-container\" hidden><div class=\"sk-item\"><div class=\"sk-estimator sk-toggleable\"><input class=\"sk-toggleable__control sk-hidden--visually\" id=\"sk-estimator-id-1\" type=\"checkbox\" checked><label for=\"sk-estimator-id-1\" class=\"sk-toggleable__label sk-toggleable__label-arrow\">RandomForestClassifier</label><div class=\"sk-toggleable__content\"><pre>RandomForestClassifier(class_weight=&#x27;balanced&#x27;, random_state=42)</pre></div></div></div></div></div>"
      ],
      "text/plain": [
       "RandomForestClassifier(class_weight='balanced', random_state=42)"
      ]
     },
     "execution_count": 15,
     "metadata": {},
     "output_type": "execute_result"
    }
   ],
   "source": [
    "%%time\n",
    "modelo_v1.fit(X_train_scaled, y_train)"
   ]
  },
  {
   "cell_type": "code",
   "execution_count": 16,
   "id": "7c0462d6",
   "metadata": {},
   "outputs": [],
   "source": [
    "# Fazer previsões no conjunto de teste\n",
    "y_pred = modelo_v1.predict(X_test_scaled)\n",
    "y_pred_proba = modelo_v1.predict_proba(X_test_scaled)[:, 1]"
   ]
  },
  {
   "cell_type": "code",
   "execution_count": 17,
   "id": "f5661a0c",
   "metadata": {},
   "outputs": [
    {
     "name": "stdout",
     "output_type": "stream",
     "text": [
      "\n",
      "Acurácia: 98.70%\n",
      "AUC-ROC: 98.78%\n",
      "\n",
      "Relatório de Classificação:\n",
      "               precision    recall  f1-score   support\n",
      "\n",
      "           0       0.98      0.99      0.99       876\n",
      "           1       0.99      0.98      0.99      1124\n",
      "\n",
      "    accuracy                           0.99      2000\n",
      "   macro avg       0.99      0.99      0.99      2000\n",
      "weighted avg       0.99      0.99      0.99      2000\n",
      "\n"
     ]
    }
   ],
   "source": [
    "# Avaliação do Modelo\n",
    "accuracy = accuracy_score(y_test, y_pred)\n",
    "roc_auc = roc_auc_score(y_test, y_pred_proba)\n",
    "print(f\"\\nAcurácia: {accuracy * 100:.2f}%\")\n",
    "print(f\"AUC-ROC: {roc_auc * 100:.2f}%\")\n",
    "print(\"\\nRelatório de Classificação:\\n\", classification_report(y_test, y_pred))"
   ]
  },
  {
   "cell_type": "code",
   "execution_count": 19,
   "id": "1ed326ee",
   "metadata": {},
   "outputs": [
    {
     "name": "stdout",
     "output_type": "stream",
     "text": [
      "Modelo salvo em modelos/modelo_v1.pkl\n",
      "Scaler salvo em padronizadores/scaler_v1.pkl\n"
     ]
    }
   ],
   "source": [
    "# Salva modelo e padronizador em disco\n",
    "model_file = 'modelos/modelo_v1.pkl'\n",
    "scaler_file = 'padronizadores/scaler_v1.pkl'\n",
    "\n",
    "joblib.dump(modelo_v1, model_file)\n",
    "joblib.dump(scaler_v1, scaler_file)\n",
    "\n",
    "print(f\"Modelo salvo em {model_file}\")\n",
    "print(f\"Scaler salvo em {scaler_file}\")"
   ]
  },
  {
   "cell_type": "markdown",
   "id": "f4049ff8",
   "metadata": {},
   "source": [
    "### Opção 2 - Subamostragem da Classe Majoritária (Undersampling)"
   ]
  },
  {
   "cell_type": "code",
   "execution_count": 18,
   "id": "72eb8b53",
   "metadata": {},
   "outputs": [
    {
     "data": {
      "text/plain": [
       "manutencao_necessaria\n",
       "1    5517\n",
       "0    4483\n",
       "Name: count, dtype: int64"
      ]
     },
     "execution_count": 18,
     "metadata": {},
     "output_type": "execute_result"
    }
   ],
   "source": [
    "# Proporção de classe\n",
    "df.manutencao_necessaria.value_counts()"
   ]
  },
  {
   "cell_type": "code",
   "execution_count": 20,
   "id": "9cc41eff",
   "metadata": {},
   "outputs": [],
   "source": [
    "# Concatenar X_train e y_train para facilitar a reamostragem\n",
    "train_data = pd.concat([X_train, y_train], axis = 1)"
   ]
  },
  {
   "cell_type": "code",
   "execution_count": 21,
   "id": "e0f9238c",
   "metadata": {},
   "outputs": [],
   "source": [
    "# Separar a classe majoritária e minoritária do conjunto de treino\n",
    "df_majoritaria = train_data[train_data.manutencao_necessaria == 1]\n",
    "df_minoritaria = train_data[train_data.manutencao_necessaria == 0]"
   ]
  },
  {
   "cell_type": "code",
   "execution_count": 22,
   "id": "5c7d6f20",
   "metadata": {},
   "outputs": [
    {
     "data": {
      "text/plain": [
       "4393"
      ]
     },
     "execution_count": 22,
     "metadata": {},
     "output_type": "execute_result"
    }
   ],
   "source": [
    "len(df_majoritaria)"
   ]
  },
  {
   "cell_type": "code",
   "execution_count": 23,
   "id": "36ad355f",
   "metadata": {},
   "outputs": [
    {
     "data": {
      "text/plain": [
       "3607"
      ]
     },
     "execution_count": 23,
     "metadata": {},
     "output_type": "execute_result"
    }
   ],
   "source": [
    "len(df_minoritaria)"
   ]
  },
  {
   "cell_type": "code",
   "execution_count": 24,
   "id": "39388459",
   "metadata": {},
   "outputs": [],
   "source": [
    "# Aplicar subamostragem da classe majoritária no conjunto de treino\n",
    "df_majoritaria_subamostrada = resample(df_majoritaria,\n",
    "                                       replace = False,    \n",
    "                                       n_samples = len(df_minoritaria),  # Igualar o número da classe minoritária\n",
    "                                       random_state = 42)"
   ]
  },
  {
   "cell_type": "code",
   "execution_count": 25,
   "id": "a786abc0",
   "metadata": {},
   "outputs": [],
   "source": [
    "# Combinar as classes minoritária e majoritária subamostrada\n",
    "train_data_balanceado = pd.concat([df_majoritaria_subamostrada, df_minoritaria])"
   ]
  },
  {
   "cell_type": "code",
   "execution_count": 26,
   "id": "51231dda",
   "metadata": {},
   "outputs": [],
   "source": [
    "# Separar novamente em X_train e y_train balanceados\n",
    "X_train_balanceado = train_data_balanceado.drop('manutencao_necessaria', axis = 1)\n",
    "y_train_balanceado = train_data_balanceado['manutencao_necessaria']"
   ]
  },
  {
   "cell_type": "code",
   "execution_count": 27,
   "id": "dd8b1c67",
   "metadata": {},
   "outputs": [
    {
     "name": "stdout",
     "output_type": "stream",
     "text": [
      "manutencao_necessaria\n",
      "1    3607\n",
      "0    3607\n",
      "Name: count, dtype: int64\n"
     ]
    }
   ],
   "source": [
    "# Verificar o balanceamento no conjunto de treino\n",
    "print(y_train_balanceado.value_counts())"
   ]
  },
  {
   "cell_type": "code",
   "execution_count": 28,
   "id": "10d7c3ab",
   "metadata": {},
   "outputs": [],
   "source": [
    "# Padronizar os dados\n",
    "scaler_v2 = StandardScaler()\n",
    "X_train_scaled = scaler_v2.fit_transform(X_train_balanceado)\n",
    "X_test_scaled = scaler_v2.transform(X_test)"
   ]
  },
  {
   "cell_type": "code",
   "execution_count": 29,
   "id": "ff71c4c3",
   "metadata": {},
   "outputs": [],
   "source": [
    "# Instanciar e treinar o modelo\n",
    "modelo_v2 = RandomForestClassifier(n_estimators = 100, random_state = 42)"
   ]
  },
  {
   "cell_type": "code",
   "execution_count": 30,
   "id": "6236b87f",
   "metadata": {},
   "outputs": [
    {
     "name": "stdout",
     "output_type": "stream",
     "text": [
      "CPU times: total: 2.3 s\n",
      "Wall time: 3.6 s\n"
     ]
    },
    {
     "data": {
      "text/html": [
       "<style>#sk-container-id-2 {color: black;}#sk-container-id-2 pre{padding: 0;}#sk-container-id-2 div.sk-toggleable {background-color: white;}#sk-container-id-2 label.sk-toggleable__label {cursor: pointer;display: block;width: 100%;margin-bottom: 0;padding: 0.3em;box-sizing: border-box;text-align: center;}#sk-container-id-2 label.sk-toggleable__label-arrow:before {content: \"▸\";float: left;margin-right: 0.25em;color: #696969;}#sk-container-id-2 label.sk-toggleable__label-arrow:hover:before {color: black;}#sk-container-id-2 div.sk-estimator:hover label.sk-toggleable__label-arrow:before {color: black;}#sk-container-id-2 div.sk-toggleable__content {max-height: 0;max-width: 0;overflow: hidden;text-align: left;background-color: #f0f8ff;}#sk-container-id-2 div.sk-toggleable__content pre {margin: 0.2em;color: black;border-radius: 0.25em;background-color: #f0f8ff;}#sk-container-id-2 input.sk-toggleable__control:checked~div.sk-toggleable__content {max-height: 200px;max-width: 100%;overflow: auto;}#sk-container-id-2 input.sk-toggleable__control:checked~label.sk-toggleable__label-arrow:before {content: \"▾\";}#sk-container-id-2 div.sk-estimator input.sk-toggleable__control:checked~label.sk-toggleable__label {background-color: #d4ebff;}#sk-container-id-2 div.sk-label input.sk-toggleable__control:checked~label.sk-toggleable__label {background-color: #d4ebff;}#sk-container-id-2 input.sk-hidden--visually {border: 0;clip: rect(1px 1px 1px 1px);clip: rect(1px, 1px, 1px, 1px);height: 1px;margin: -1px;overflow: hidden;padding: 0;position: absolute;width: 1px;}#sk-container-id-2 div.sk-estimator {font-family: monospace;background-color: #f0f8ff;border: 1px dotted black;border-radius: 0.25em;box-sizing: border-box;margin-bottom: 0.5em;}#sk-container-id-2 div.sk-estimator:hover {background-color: #d4ebff;}#sk-container-id-2 div.sk-parallel-item::after {content: \"\";width: 100%;border-bottom: 1px solid gray;flex-grow: 1;}#sk-container-id-2 div.sk-label:hover label.sk-toggleable__label {background-color: #d4ebff;}#sk-container-id-2 div.sk-serial::before {content: \"\";position: absolute;border-left: 1px solid gray;box-sizing: border-box;top: 0;bottom: 0;left: 50%;z-index: 0;}#sk-container-id-2 div.sk-serial {display: flex;flex-direction: column;align-items: center;background-color: white;padding-right: 0.2em;padding-left: 0.2em;position: relative;}#sk-container-id-2 div.sk-item {position: relative;z-index: 1;}#sk-container-id-2 div.sk-parallel {display: flex;align-items: stretch;justify-content: center;background-color: white;position: relative;}#sk-container-id-2 div.sk-item::before, #sk-container-id-2 div.sk-parallel-item::before {content: \"\";position: absolute;border-left: 1px solid gray;box-sizing: border-box;top: 0;bottom: 0;left: 50%;z-index: -1;}#sk-container-id-2 div.sk-parallel-item {display: flex;flex-direction: column;z-index: 1;position: relative;background-color: white;}#sk-container-id-2 div.sk-parallel-item:first-child::after {align-self: flex-end;width: 50%;}#sk-container-id-2 div.sk-parallel-item:last-child::after {align-self: flex-start;width: 50%;}#sk-container-id-2 div.sk-parallel-item:only-child::after {width: 0;}#sk-container-id-2 div.sk-dashed-wrapped {border: 1px dashed gray;margin: 0 0.4em 0.5em 0.4em;box-sizing: border-box;padding-bottom: 0.4em;background-color: white;}#sk-container-id-2 div.sk-label label {font-family: monospace;font-weight: bold;display: inline-block;line-height: 1.2em;}#sk-container-id-2 div.sk-label-container {text-align: center;}#sk-container-id-2 div.sk-container {/* jupyter's `normalize.less` sets `[hidden] { display: none; }` but bootstrap.min.css set `[hidden] { display: none !important; }` so we also need the `!important` here to be able to override the default hidden behavior on the sphinx rendered scikit-learn.org. See: https://github.com/scikit-learn/scikit-learn/issues/21755 */display: inline-block !important;position: relative;}#sk-container-id-2 div.sk-text-repr-fallback {display: none;}</style><div id=\"sk-container-id-2\" class=\"sk-top-container\"><div class=\"sk-text-repr-fallback\"><pre>RandomForestClassifier(random_state=42)</pre><b>In a Jupyter environment, please rerun this cell to show the HTML representation or trust the notebook. <br />On GitHub, the HTML representation is unable to render, please try loading this page with nbviewer.org.</b></div><div class=\"sk-container\" hidden><div class=\"sk-item\"><div class=\"sk-estimator sk-toggleable\"><input class=\"sk-toggleable__control sk-hidden--visually\" id=\"sk-estimator-id-2\" type=\"checkbox\" checked><label for=\"sk-estimator-id-2\" class=\"sk-toggleable__label sk-toggleable__label-arrow\">RandomForestClassifier</label><div class=\"sk-toggleable__content\"><pre>RandomForestClassifier(random_state=42)</pre></div></div></div></div></div>"
      ],
      "text/plain": [
       "RandomForestClassifier(random_state=42)"
      ]
     },
     "execution_count": 30,
     "metadata": {},
     "output_type": "execute_result"
    }
   ],
   "source": [
    "%%time\n",
    "modelo_v2.fit(X_train_scaled, y_train_balanceado)"
   ]
  },
  {
   "cell_type": "code",
   "execution_count": 31,
   "id": "26b5271d",
   "metadata": {},
   "outputs": [],
   "source": [
    "# Avaliar o modelo no conjunto de teste \n",
    "y_pred = modelo_v2.predict(X_test_scaled)\n",
    "y_pred_proba = modelo_v2.predict_proba(X_test_scaled)[:, 1]"
   ]
  },
  {
   "cell_type": "code",
   "execution_count": 32,
   "id": "9f5b0f7e",
   "metadata": {},
   "outputs": [
    {
     "name": "stdout",
     "output_type": "stream",
     "text": [
      "\n",
      "Acurácia: 98.20%\n",
      "AUC-ROC: 98.28%\n",
      "\n",
      "Relatório de Classificação:\n",
      "               precision    recall  f1-score   support\n",
      "\n",
      "           0       0.97      0.99      0.98       876\n",
      "           1       0.99      0.98      0.98      1124\n",
      "\n",
      "    accuracy                           0.98      2000\n",
      "   macro avg       0.98      0.98      0.98      2000\n",
      "weighted avg       0.98      0.98      0.98      2000\n",
      "\n"
     ]
    }
   ],
   "source": [
    "# Avaliação do modelo\n",
    "accuracy = accuracy_score(y_test, y_pred)\n",
    "roc_auc = roc_auc_score(y_test, y_pred_proba)\n",
    "print(f\"\\nAcurácia: {accuracy * 100:.2f}%\")\n",
    "print(f\"AUC-ROC: {roc_auc * 100:.2f}%\")\n",
    "print(\"\\nRelatório de Classificação:\\n\", classification_report(y_test, y_pred))"
   ]
  },
  {
   "cell_type": "code",
   "execution_count": 33,
   "id": "9e920bee",
   "metadata": {},
   "outputs": [
    {
     "name": "stdout",
     "output_type": "stream",
     "text": [
      "Modelo salvo em modelos/modelo_v2.pkl\n",
      "Scaler salvo em padronizadores/scaler_v2.pkl\n"
     ]
    }
   ],
   "source": [
    "# Salva modelo e padronizador em disco\n",
    "model_file = 'modelos/modelo_v2.pkl'\n",
    "scaler_file = 'padronizadores/scaler_v2.pkl'\n",
    "\n",
    "joblib.dump(modelo_v2, model_file)\n",
    "joblib.dump(scaler_v2, scaler_file)\n",
    "\n",
    "print(f\"Modelo salvo em {model_file}\")\n",
    "print(f\"Scaler salvo em {scaler_file}\")"
   ]
  },
  {
   "cell_type": "markdown",
   "id": "b93b7d2e",
   "metadata": {},
   "source": [
    "### Opção 3 - Superamostragem da Classe Minoritária (Oversampling)"
   ]
  },
  {
   "cell_type": "code",
   "execution_count": 34,
   "id": "dfcdaf83",
   "metadata": {},
   "outputs": [],
   "source": [
    "# Concatenar X_train e y_train para facilitar a reamostragem\n",
    "train_data = pd.concat([X_train, y_train], axis = 1)"
   ]
  },
  {
   "cell_type": "code",
   "execution_count": 35,
   "id": "61ecada8",
   "metadata": {},
   "outputs": [],
   "source": [
    "# Separar a classe majoritária e minoritária do conjunto de treino\n",
    "df_majoritaria = train_data[train_data.manutencao_necessaria == 1]\n",
    "df_minoritaria = train_data[train_data.manutencao_necessaria == 0]"
   ]
  },
  {
   "cell_type": "code",
   "execution_count": 36,
   "id": "7883c2d4",
   "metadata": {},
   "outputs": [
    {
     "data": {
      "text/plain": [
       "4393"
      ]
     },
     "execution_count": 36,
     "metadata": {},
     "output_type": "execute_result"
    }
   ],
   "source": [
    "len(df_majoritaria)"
   ]
  },
  {
   "cell_type": "code",
   "execution_count": 37,
   "id": "89b76654",
   "metadata": {},
   "outputs": [
    {
     "data": {
      "text/plain": [
       "3607"
      ]
     },
     "execution_count": 37,
     "metadata": {},
     "output_type": "execute_result"
    }
   ],
   "source": [
    "len(df_minoritaria)"
   ]
  },
  {
   "cell_type": "code",
   "execution_count": 38,
   "id": "93484bb1",
   "metadata": {},
   "outputs": [],
   "source": [
    "# Superamostragem da classe minoritária no conjunto de treino\n",
    "df_minoritaria_superamostrada = resample(df_minoritaria,\n",
    "                                         replace = True,     \n",
    "                                         n_samples = len(df_majoritaria), # Igualar ao número da classe majoritária\n",
    "                                         random_state = 42)"
   ]
  },
  {
   "cell_type": "code",
   "execution_count": 39,
   "id": "b6b95e93",
   "metadata": {},
   "outputs": [],
   "source": [
    "# Combinar as classes majoritária e minoritária superamostrada\n",
    "train_data_balanceado = pd.concat([df_majoritaria, df_minoritaria_superamostrada])"
   ]
  },
  {
   "cell_type": "code",
   "execution_count": 40,
   "id": "ac7a8198",
   "metadata": {},
   "outputs": [],
   "source": [
    "# Separar novamente em X_train e y_train balanceados\n",
    "X_train_balanceado = train_data_balanceado.drop('manutencao_necessaria', axis = 1)\n",
    "y_train_balanceado = train_data_balanceado['manutencao_necessaria']"
   ]
  },
  {
   "cell_type": "code",
   "execution_count": 41,
   "id": "bde9fba3",
   "metadata": {},
   "outputs": [
    {
     "name": "stdout",
     "output_type": "stream",
     "text": [
      "manutencao_necessaria\n",
      "1    4393\n",
      "0    4393\n",
      "Name: count, dtype: int64\n"
     ]
    }
   ],
   "source": [
    "# Verificar o balanceamento no conjunto de treino\n",
    "print(y_train_balanceado.value_counts())"
   ]
  },
  {
   "cell_type": "code",
   "execution_count": 42,
   "id": "8fcba7d8",
   "metadata": {},
   "outputs": [],
   "source": [
    "# Padronizar os dados\n",
    "scaler_v3 = StandardScaler()\n",
    "X_train_scaled = scaler_v3.fit_transform(X_train_balanceado)\n",
    "X_test_scaled = scaler_v3.transform(X_test)"
   ]
  },
  {
   "cell_type": "code",
   "execution_count": 43,
   "id": "81e0346a",
   "metadata": {},
   "outputs": [],
   "source": [
    "# Criar o modelo\n",
    "modelo_v3 = RandomForestClassifier(n_estimators = 100, random_state = 42)"
   ]
  },
  {
   "cell_type": "code",
   "execution_count": 44,
   "id": "a341e4e0",
   "metadata": {},
   "outputs": [
    {
     "name": "stdout",
     "output_type": "stream",
     "text": [
      "CPU times: total: 1.91 s\n",
      "Wall time: 3.43 s\n"
     ]
    },
    {
     "data": {
      "text/html": [
       "<style>#sk-container-id-3 {color: black;}#sk-container-id-3 pre{padding: 0;}#sk-container-id-3 div.sk-toggleable {background-color: white;}#sk-container-id-3 label.sk-toggleable__label {cursor: pointer;display: block;width: 100%;margin-bottom: 0;padding: 0.3em;box-sizing: border-box;text-align: center;}#sk-container-id-3 label.sk-toggleable__label-arrow:before {content: \"▸\";float: left;margin-right: 0.25em;color: #696969;}#sk-container-id-3 label.sk-toggleable__label-arrow:hover:before {color: black;}#sk-container-id-3 div.sk-estimator:hover label.sk-toggleable__label-arrow:before {color: black;}#sk-container-id-3 div.sk-toggleable__content {max-height: 0;max-width: 0;overflow: hidden;text-align: left;background-color: #f0f8ff;}#sk-container-id-3 div.sk-toggleable__content pre {margin: 0.2em;color: black;border-radius: 0.25em;background-color: #f0f8ff;}#sk-container-id-3 input.sk-toggleable__control:checked~div.sk-toggleable__content {max-height: 200px;max-width: 100%;overflow: auto;}#sk-container-id-3 input.sk-toggleable__control:checked~label.sk-toggleable__label-arrow:before {content: \"▾\";}#sk-container-id-3 div.sk-estimator input.sk-toggleable__control:checked~label.sk-toggleable__label {background-color: #d4ebff;}#sk-container-id-3 div.sk-label input.sk-toggleable__control:checked~label.sk-toggleable__label {background-color: #d4ebff;}#sk-container-id-3 input.sk-hidden--visually {border: 0;clip: rect(1px 1px 1px 1px);clip: rect(1px, 1px, 1px, 1px);height: 1px;margin: -1px;overflow: hidden;padding: 0;position: absolute;width: 1px;}#sk-container-id-3 div.sk-estimator {font-family: monospace;background-color: #f0f8ff;border: 1px dotted black;border-radius: 0.25em;box-sizing: border-box;margin-bottom: 0.5em;}#sk-container-id-3 div.sk-estimator:hover {background-color: #d4ebff;}#sk-container-id-3 div.sk-parallel-item::after {content: \"\";width: 100%;border-bottom: 1px solid gray;flex-grow: 1;}#sk-container-id-3 div.sk-label:hover label.sk-toggleable__label {background-color: #d4ebff;}#sk-container-id-3 div.sk-serial::before {content: \"\";position: absolute;border-left: 1px solid gray;box-sizing: border-box;top: 0;bottom: 0;left: 50%;z-index: 0;}#sk-container-id-3 div.sk-serial {display: flex;flex-direction: column;align-items: center;background-color: white;padding-right: 0.2em;padding-left: 0.2em;position: relative;}#sk-container-id-3 div.sk-item {position: relative;z-index: 1;}#sk-container-id-3 div.sk-parallel {display: flex;align-items: stretch;justify-content: center;background-color: white;position: relative;}#sk-container-id-3 div.sk-item::before, #sk-container-id-3 div.sk-parallel-item::before {content: \"\";position: absolute;border-left: 1px solid gray;box-sizing: border-box;top: 0;bottom: 0;left: 50%;z-index: -1;}#sk-container-id-3 div.sk-parallel-item {display: flex;flex-direction: column;z-index: 1;position: relative;background-color: white;}#sk-container-id-3 div.sk-parallel-item:first-child::after {align-self: flex-end;width: 50%;}#sk-container-id-3 div.sk-parallel-item:last-child::after {align-self: flex-start;width: 50%;}#sk-container-id-3 div.sk-parallel-item:only-child::after {width: 0;}#sk-container-id-3 div.sk-dashed-wrapped {border: 1px dashed gray;margin: 0 0.4em 0.5em 0.4em;box-sizing: border-box;padding-bottom: 0.4em;background-color: white;}#sk-container-id-3 div.sk-label label {font-family: monospace;font-weight: bold;display: inline-block;line-height: 1.2em;}#sk-container-id-3 div.sk-label-container {text-align: center;}#sk-container-id-3 div.sk-container {/* jupyter's `normalize.less` sets `[hidden] { display: none; }` but bootstrap.min.css set `[hidden] { display: none !important; }` so we also need the `!important` here to be able to override the default hidden behavior on the sphinx rendered scikit-learn.org. See: https://github.com/scikit-learn/scikit-learn/issues/21755 */display: inline-block !important;position: relative;}#sk-container-id-3 div.sk-text-repr-fallback {display: none;}</style><div id=\"sk-container-id-3\" class=\"sk-top-container\"><div class=\"sk-text-repr-fallback\"><pre>RandomForestClassifier(random_state=42)</pre><b>In a Jupyter environment, please rerun this cell to show the HTML representation or trust the notebook. <br />On GitHub, the HTML representation is unable to render, please try loading this page with nbviewer.org.</b></div><div class=\"sk-container\" hidden><div class=\"sk-item\"><div class=\"sk-estimator sk-toggleable\"><input class=\"sk-toggleable__control sk-hidden--visually\" id=\"sk-estimator-id-3\" type=\"checkbox\" checked><label for=\"sk-estimator-id-3\" class=\"sk-toggleable__label sk-toggleable__label-arrow\">RandomForestClassifier</label><div class=\"sk-toggleable__content\"><pre>RandomForestClassifier(random_state=42)</pre></div></div></div></div></div>"
      ],
      "text/plain": [
       "RandomForestClassifier(random_state=42)"
      ]
     },
     "execution_count": 44,
     "metadata": {},
     "output_type": "execute_result"
    }
   ],
   "source": [
    "%%time\n",
    "modelo_v3.fit(X_train_scaled, y_train_balanceado)"
   ]
  },
  {
   "cell_type": "code",
   "execution_count": 45,
   "id": "9af99a40",
   "metadata": {},
   "outputs": [],
   "source": [
    "# Avaliar o modelo no conjunto de teste \n",
    "y_pred = modelo_v3.predict(X_test_scaled)\n",
    "y_pred_proba = modelo_v3.predict_proba(X_test_scaled)[:, 1]"
   ]
  },
  {
   "cell_type": "code",
   "execution_count": 46,
   "id": "9d03f86e",
   "metadata": {},
   "outputs": [
    {
     "name": "stdout",
     "output_type": "stream",
     "text": [
      "\n",
      "Acurácia: 98.25%\n",
      "AUC-ROC: 98.96%\n",
      "\n",
      "Relatório de Classificação:\n",
      "               precision    recall  f1-score   support\n",
      "\n",
      "           0       0.98      0.98      0.98       876\n",
      "           1       0.98      0.98      0.98      1124\n",
      "\n",
      "    accuracy                           0.98      2000\n",
      "   macro avg       0.98      0.98      0.98      2000\n",
      "weighted avg       0.98      0.98      0.98      2000\n",
      "\n"
     ]
    }
   ],
   "source": [
    "# Avaliação do modelo\n",
    "accuracy = accuracy_score(y_test, y_pred)\n",
    "roc_auc = roc_auc_score(y_test, y_pred_proba)\n",
    "print(f\"\\nAcurácia: {accuracy * 100:.2f}%\")\n",
    "print(f\"AUC-ROC: {roc_auc * 100:.2f}%\")\n",
    "print(\"\\nRelatório de Classificação:\\n\", classification_report(y_test, y_pred))"
   ]
  },
  {
   "cell_type": "code",
   "execution_count": 47,
   "id": "d9cbf310",
   "metadata": {},
   "outputs": [
    {
     "name": "stdout",
     "output_type": "stream",
     "text": [
      "Modelo salvo em modelos/modelo_v3.pkl\n",
      "Scaler salvo em padronizadores/scaler_v3.pkl\n"
     ]
    }
   ],
   "source": [
    "# Salva modelo e padronizador em disco\n",
    "model_file = 'modelos/modelo_v3.pkl'\n",
    "scaler_file = 'padronizadores/scaler_v3.pkl'\n",
    "\n",
    "joblib.dump(modelo_v3, model_file)\n",
    "joblib.dump(scaler_v3, scaler_file)\n",
    "\n",
    "print(f\"Modelo salvo em {model_file}\")\n",
    "print(f\"Scaler salvo em {scaler_file}\")"
   ]
  },
  {
   "cell_type": "markdown",
   "id": "241728e6",
   "metadata": {},
   "source": [
    "### Opção 4 - Balanceamento Automático com SMOTE"
   ]
  },
  {
   "cell_type": "code",
   "execution_count": 48,
   "id": "a7431078",
   "metadata": {},
   "outputs": [],
   "source": [
    "# Padronização\n",
    "scaler_v4 = StandardScaler()\n",
    "X_train_scaled = scaler_v4.fit_transform(X_train)\n",
    "X_test_scaled = scaler_v4.transform(X_test)"
   ]
  },
  {
   "cell_type": "code",
   "execution_count": 49,
   "id": "9dbff315",
   "metadata": {},
   "outputs": [],
   "source": [
    "# # Criando o SMOTE\n",
    "smote = SMOTE(random_state=42)"
   ]
  },
  {
   "cell_type": "code",
   "execution_count": 50,
   "id": "0c5aa894",
   "metadata": {},
   "outputs": [],
   "source": [
    "# Treinar e aplicar SMOTE no conjunto de treino\n",
    "X_train_smote, y_train_smote = smote.fit_resample(X_train_scaled, y_train)"
   ]
  },
  {
   "cell_type": "code",
   "execution_count": 51,
   "id": "73c65447",
   "metadata": {},
   "outputs": [
    {
     "data": {
      "text/plain": [
       "8786"
      ]
     },
     "execution_count": 51,
     "metadata": {},
     "output_type": "execute_result"
    }
   ],
   "source": [
    "len(X_train_smote)"
   ]
  },
  {
   "cell_type": "code",
   "execution_count": 52,
   "id": "53c5ca82",
   "metadata": {},
   "outputs": [],
   "source": [
    "# Criar o modelo\n",
    "modelo_v4 = RandomForestClassifier(n_estimators = 100, random_state = 42)"
   ]
  },
  {
   "cell_type": "code",
   "execution_count": 53,
   "id": "c014369a",
   "metadata": {},
   "outputs": [
    {
     "name": "stdout",
     "output_type": "stream",
     "text": [
      "CPU times: total: 1.58 s\n",
      "Wall time: 4.07 s\n"
     ]
    },
    {
     "data": {
      "text/html": [
       "<style>#sk-container-id-4 {color: black;}#sk-container-id-4 pre{padding: 0;}#sk-container-id-4 div.sk-toggleable {background-color: white;}#sk-container-id-4 label.sk-toggleable__label {cursor: pointer;display: block;width: 100%;margin-bottom: 0;padding: 0.3em;box-sizing: border-box;text-align: center;}#sk-container-id-4 label.sk-toggleable__label-arrow:before {content: \"▸\";float: left;margin-right: 0.25em;color: #696969;}#sk-container-id-4 label.sk-toggleable__label-arrow:hover:before {color: black;}#sk-container-id-4 div.sk-estimator:hover label.sk-toggleable__label-arrow:before {color: black;}#sk-container-id-4 div.sk-toggleable__content {max-height: 0;max-width: 0;overflow: hidden;text-align: left;background-color: #f0f8ff;}#sk-container-id-4 div.sk-toggleable__content pre {margin: 0.2em;color: black;border-radius: 0.25em;background-color: #f0f8ff;}#sk-container-id-4 input.sk-toggleable__control:checked~div.sk-toggleable__content {max-height: 200px;max-width: 100%;overflow: auto;}#sk-container-id-4 input.sk-toggleable__control:checked~label.sk-toggleable__label-arrow:before {content: \"▾\";}#sk-container-id-4 div.sk-estimator input.sk-toggleable__control:checked~label.sk-toggleable__label {background-color: #d4ebff;}#sk-container-id-4 div.sk-label input.sk-toggleable__control:checked~label.sk-toggleable__label {background-color: #d4ebff;}#sk-container-id-4 input.sk-hidden--visually {border: 0;clip: rect(1px 1px 1px 1px);clip: rect(1px, 1px, 1px, 1px);height: 1px;margin: -1px;overflow: hidden;padding: 0;position: absolute;width: 1px;}#sk-container-id-4 div.sk-estimator {font-family: monospace;background-color: #f0f8ff;border: 1px dotted black;border-radius: 0.25em;box-sizing: border-box;margin-bottom: 0.5em;}#sk-container-id-4 div.sk-estimator:hover {background-color: #d4ebff;}#sk-container-id-4 div.sk-parallel-item::after {content: \"\";width: 100%;border-bottom: 1px solid gray;flex-grow: 1;}#sk-container-id-4 div.sk-label:hover label.sk-toggleable__label {background-color: #d4ebff;}#sk-container-id-4 div.sk-serial::before {content: \"\";position: absolute;border-left: 1px solid gray;box-sizing: border-box;top: 0;bottom: 0;left: 50%;z-index: 0;}#sk-container-id-4 div.sk-serial {display: flex;flex-direction: column;align-items: center;background-color: white;padding-right: 0.2em;padding-left: 0.2em;position: relative;}#sk-container-id-4 div.sk-item {position: relative;z-index: 1;}#sk-container-id-4 div.sk-parallel {display: flex;align-items: stretch;justify-content: center;background-color: white;position: relative;}#sk-container-id-4 div.sk-item::before, #sk-container-id-4 div.sk-parallel-item::before {content: \"\";position: absolute;border-left: 1px solid gray;box-sizing: border-box;top: 0;bottom: 0;left: 50%;z-index: -1;}#sk-container-id-4 div.sk-parallel-item {display: flex;flex-direction: column;z-index: 1;position: relative;background-color: white;}#sk-container-id-4 div.sk-parallel-item:first-child::after {align-self: flex-end;width: 50%;}#sk-container-id-4 div.sk-parallel-item:last-child::after {align-self: flex-start;width: 50%;}#sk-container-id-4 div.sk-parallel-item:only-child::after {width: 0;}#sk-container-id-4 div.sk-dashed-wrapped {border: 1px dashed gray;margin: 0 0.4em 0.5em 0.4em;box-sizing: border-box;padding-bottom: 0.4em;background-color: white;}#sk-container-id-4 div.sk-label label {font-family: monospace;font-weight: bold;display: inline-block;line-height: 1.2em;}#sk-container-id-4 div.sk-label-container {text-align: center;}#sk-container-id-4 div.sk-container {/* jupyter's `normalize.less` sets `[hidden] { display: none; }` but bootstrap.min.css set `[hidden] { display: none !important; }` so we also need the `!important` here to be able to override the default hidden behavior on the sphinx rendered scikit-learn.org. See: https://github.com/scikit-learn/scikit-learn/issues/21755 */display: inline-block !important;position: relative;}#sk-container-id-4 div.sk-text-repr-fallback {display: none;}</style><div id=\"sk-container-id-4\" class=\"sk-top-container\"><div class=\"sk-text-repr-fallback\"><pre>RandomForestClassifier(random_state=42)</pre><b>In a Jupyter environment, please rerun this cell to show the HTML representation or trust the notebook. <br />On GitHub, the HTML representation is unable to render, please try loading this page with nbviewer.org.</b></div><div class=\"sk-container\" hidden><div class=\"sk-item\"><div class=\"sk-estimator sk-toggleable\"><input class=\"sk-toggleable__control sk-hidden--visually\" id=\"sk-estimator-id-4\" type=\"checkbox\" checked><label for=\"sk-estimator-id-4\" class=\"sk-toggleable__label sk-toggleable__label-arrow\">RandomForestClassifier</label><div class=\"sk-toggleable__content\"><pre>RandomForestClassifier(random_state=42)</pre></div></div></div></div></div>"
      ],
      "text/plain": [
       "RandomForestClassifier(random_state=42)"
      ]
     },
     "execution_count": 53,
     "metadata": {},
     "output_type": "execute_result"
    }
   ],
   "source": [
    "%%time\n",
    "modelo_v4.fit(X_train_smote, y_train_smote)"
   ]
  },
  {
   "cell_type": "code",
   "execution_count": 54,
   "id": "17597df1",
   "metadata": {},
   "outputs": [],
   "source": [
    "# Avaliar o modelo no conjunto de teste \n",
    "y_pred = modelo_v4.predict(X_test_scaled)\n",
    "y_pred_proba = modelo_v4.predict_proba(X_test_scaled)[:, 1]"
   ]
  },
  {
   "cell_type": "code",
   "execution_count": 55,
   "id": "28c48df2",
   "metadata": {},
   "outputs": [
    {
     "name": "stdout",
     "output_type": "stream",
     "text": [
      "\n",
      "Acurácia: 98.85%\n",
      "AUC-ROC: 99.03%\n",
      "\n",
      "Relatório de Classificação:\n",
      "               precision    recall  f1-score   support\n",
      "\n",
      "           0       0.98      0.99      0.99       876\n",
      "           1       0.99      0.98      0.99      1124\n",
      "\n",
      "    accuracy                           0.99      2000\n",
      "   macro avg       0.99      0.99      0.99      2000\n",
      "weighted avg       0.99      0.99      0.99      2000\n",
      "\n"
     ]
    }
   ],
   "source": [
    "# Avaliação do modelo\n",
    "accuracy = accuracy_score(y_test, y_pred)\n",
    "roc_auc = roc_auc_score(y_test, y_pred_proba)\n",
    "print(f\"\\nAcurácia: {accuracy * 100:.2f}%\")\n",
    "print(f\"AUC-ROC: {roc_auc * 100:.2f}%\")\n",
    "print(\"\\nRelatório de Classificação:\\n\", classification_report(y_test, y_pred))"
   ]
  },
  {
   "cell_type": "code",
   "execution_count": 56,
   "id": "46860655",
   "metadata": {},
   "outputs": [
    {
     "name": "stdout",
     "output_type": "stream",
     "text": [
      "Modelo salvo em modelos/modelo_v4.pkl\n",
      "Scaler salvo em padronizadores/scaler_v4.pkl\n"
     ]
    }
   ],
   "source": [
    "# Salva modelo e padronizador em disco\n",
    "model_file = 'modelos/modelo_v4.pkl'\n",
    "scaler_file = 'padronizadores/scaler_v4.pkl'\n",
    "\n",
    "joblib.dump(modelo_v4, model_file)\n",
    "joblib.dump(scaler_v4, scaler_file)\n",
    "\n",
    "print(f\"Modelo salvo em {model_file}\")\n",
    "print(f\"Scaler salvo em {scaler_file}\")"
   ]
  },
  {
   "cell_type": "markdown",
   "id": "4dfd6fbf",
   "metadata": {},
   "source": [
    "### Opção 5 - Balanceamento Automático com SMOTE e Mudança de Algoritmo"
   ]
  },
  {
   "cell_type": "markdown",
   "id": "8a2ae085",
   "metadata": {},
   "source": [
    "- SMOTE Primeiro e Padronização Depois!"
   ]
  },
  {
   "cell_type": "code",
   "execution_count": 57,
   "id": "3b7c1843",
   "metadata": {},
   "outputs": [
    {
     "name": "stdout",
     "output_type": "stream",
     "text": [
      "[LightGBM] [Info] Number of positive: 4393, number of negative: 4393\n",
      "[LightGBM] [Info] Auto-choosing row-wise multi-threading, the overhead of testing was 0.000945 seconds.\n",
      "You can set `force_row_wise=true` to remove the overhead.\n",
      "And if memory is not enough, you can set `force_col_wise=true`.\n",
      "[LightGBM] [Info] Total Bins 1275\n",
      "[LightGBM] [Info] Number of data points in the train set: 8786, number of used features: 5\n",
      "[LightGBM] [Info] [binary:BoostFromScore]: pavg=0.500000 -> initscore=0.000000\n",
      "\n",
      "Acurácia: 96.30%\n",
      "AUC-ROC: 98.53%\n",
      "\n",
      "Relatório de Classificação:\n",
      "               precision    recall  f1-score   support\n",
      "\n",
      "           0       0.94      0.98      0.96       876\n",
      "           1       0.99      0.95      0.97      1124\n",
      "\n",
      "    accuracy                           0.96      2000\n",
      "   macro avg       0.96      0.97      0.96      2000\n",
      "weighted avg       0.96      0.96      0.96      2000\n",
      "\n",
      "CPU times: total: 391 ms\n",
      "Wall time: 352 ms\n"
     ]
    }
   ],
   "source": [
    "%%time\n",
    "\n",
    "# Criar o SMOTE\n",
    "smote = SMOTE(random_state = 42)\n",
    "\n",
    "# Treinar e aplicar SMOTE no conjunto de treino\n",
    "X_train_smote, y_train_smote = smote.fit_resample(X_train, y_train)\n",
    "\n",
    "# Padronização\n",
    "scaler_v5 = StandardScaler()\n",
    "X_train_scaled = scaler_v5.fit_transform(X_train_smote)\n",
    "X_test_scaled = scaler_v5.transform(X_test)\n",
    "\n",
    "# Criar o modelo\n",
    "modelo_v5 = lgb.LGBMClassifier(random_state = 42)\n",
    "\n",
    "# Treinar o modelo com o conjunto de treino balanceado via SMOTE\n",
    "modelo_v5.fit(X_train_scaled, y_train_smote)\n",
    "\n",
    "# Avaliar o modelo no conjunto de teste \n",
    "y_pred = modelo_v4.predict(X_test_scaled)\n",
    "y_pred_proba = modelo_v4.predict_proba(X_test_scaled)[:, 1]\n",
    "\n",
    "# Avaliação do modelo\n",
    "accuracy = accuracy_score(y_test, y_pred)\n",
    "roc_auc = roc_auc_score(y_test, y_pred_proba)\n",
    "print(f\"\\nAcurácia: {accuracy * 100:.2f}%\")\n",
    "print(f\"AUC-ROC: {roc_auc * 100:.2f}%\")\n",
    "print(\"\\nRelatório de Classificação:\\n\", classification_report(y_test, y_pred))"
   ]
  },
  {
   "cell_type": "markdown",
   "id": "d22f267f",
   "metadata": {},
   "source": [
    "- Padronização Primeiro e SMOTE Depois!"
   ]
  },
  {
   "cell_type": "code",
   "execution_count": 58,
   "id": "32aa4e4e",
   "metadata": {},
   "outputs": [
    {
     "name": "stdout",
     "output_type": "stream",
     "text": [
      "[LightGBM] [Info] Number of positive: 4393, number of negative: 4393\n",
      "[LightGBM] [Info] Auto-choosing col-wise multi-threading, the overhead of testing was 0.000265 seconds.\n",
      "You can set `force_col_wise=true` to remove the overhead.\n",
      "[LightGBM] [Info] Total Bins 1275\n",
      "[LightGBM] [Info] Number of data points in the train set: 8786, number of used features: 5\n",
      "[LightGBM] [Info] [binary:BoostFromScore]: pavg=0.500000 -> initscore=0.000000\n",
      "\n",
      "Acurácia: 92.40%\n",
      "AUC-ROC: 97.47%\n",
      "\n",
      "Relatório de Classificação:\n",
      "               precision    recall  f1-score   support\n",
      "\n",
      "           0       0.86      0.98      0.92       876\n",
      "           1       0.98      0.88      0.93      1124\n",
      "\n",
      "    accuracy                           0.92      2000\n",
      "   macro avg       0.92      0.93      0.92      2000\n",
      "weighted avg       0.93      0.92      0.92      2000\n",
      "\n",
      "CPU times: total: 219 ms\n",
      "Wall time: 145 ms\n"
     ]
    }
   ],
   "source": [
    "%%time\n",
    "\n",
    "# Padronizar as variáveis\n",
    "scaler_v5 = StandardScaler()\n",
    "X_train_scaled = scaler_v5.fit_transform(X_train)\n",
    "X_test_scaled = scaler_v5.transform(X_test)\n",
    "\n",
    "# Criar o SMOTE\n",
    "smote = SMOTE(random_state = 42)\n",
    "\n",
    "# Aplicar SMOTE no conjunto de treino para lidar com o desbalanceamento\n",
    "X_train_smote, y_train_smote = smote.fit_resample(X_train_scaled, y_train)\n",
    "\n",
    "# Criar o modelo LightGBM\n",
    "modelo_v5 = lgb.LGBMClassifier(random_state = 42)\n",
    "\n",
    "# Treinar o modelo LightGBM\n",
    "modelo_v5.fit(X_train_smote, y_train_smote)\n",
    "\n",
    "# Avaliar o modelo no conjunto de teste original\n",
    "y_pred = modelo_v5.predict(X_test_scaled)\n",
    "y_pred_proba = modelo_v5.predict_proba(X_test_scaled)[:, 1]\n",
    "\n",
    "# Avaliação do modelo\n",
    "accuracy = accuracy_score(y_test, y_pred)\n",
    "roc_auc = roc_auc_score(y_test, y_pred_proba)\n",
    "print(f\"\\nAcurácia: {accuracy * 100:.2f}%\")\n",
    "print(f\"AUC-ROC: {roc_auc * 100:.2f}%\")\n",
    "print(\"\\nRelatório de Classificação:\\n\", classification_report(y_test, y_pred))"
   ]
  },
  {
   "cell_type": "code",
   "execution_count": 59,
   "id": "4dd09302",
   "metadata": {},
   "outputs": [
    {
     "name": "stdout",
     "output_type": "stream",
     "text": [
      "Modelo salvo em modelos/modelo_v5.pkl\n",
      "Scaler salvo em padronizadores/scaler_v5.pkl\n"
     ]
    }
   ],
   "source": [
    "# Salva modelo e padronizador em disco\n",
    "model_file = 'modelos/modelo_v5.pkl'\n",
    "scaler_file = 'padronizadores/scaler_v5.pkl'\n",
    "\n",
    "joblib.dump(modelo_v5, model_file)\n",
    "joblib.dump(scaler_v5, scaler_file)\n",
    "\n",
    "print(f\"Modelo salvo em {model_file}\")\n",
    "print(f\"Scaler salvo em {scaler_file}\")"
   ]
  },
  {
   "cell_type": "markdown",
   "id": "3ff7b0af",
   "metadata": {},
   "source": [
    "**Seleção de Modelo**\n",
    "\n",
    "**Versão 1 do Modelo:**\n",
    "\n",
    "- Acurácia: 98.70%\n",
    "- AUC-ROC: 98.78%\n",
    "\n",
    "**Versão 2 do Modelo:**\n",
    "\n",
    "- Acurácia: 98.20%\n",
    "- AUC-ROC: 98.28%\n",
    "\n",
    "**Versão 3 do Modelo:**\n",
    "\n",
    "- Acurácia: 98.25%\n",
    "- AUC-ROC: 98.96%\n",
    "\n",
    "**Versão 4 do Modelo:**\n",
    "\n",
    "- Acurácia: 98.85%\n",
    "- AUC-ROC: 99.03%\n",
    "\n",
    "**Versão 5 do Modelo:**\n",
    "\n",
    "**SMOTE**\n",
    "\n",
    "- Acurácia: 92.40%\n",
    "- AUC-ROC: 97.47%"
   ]
  },
  {
   "cell_type": "markdown",
   "id": "970bf3fc",
   "metadata": {},
   "source": [
    "A versão 1 do modelo foi a que apresentou o maior equilíbrio entre:\n",
    "\n",
    "**Capacidade de Generalização / Performance / Simplicidade / Interpretabilidade**\n",
    "\n",
    "O desafio é encontrar o modelo que consiga equilibrar esses 4 elementos."
   ]
  },
  {
   "cell_type": "markdown",
   "id": "4db2ddd3",
   "metadata": {},
   "source": [
    "### Testando o Deploy do Modelo"
   ]
  },
  {
   "cell_type": "code",
   "execution_count": 61,
   "id": "6eb4be12",
   "metadata": {},
   "outputs": [],
   "source": [
    "# Função para recomendar manutenção baseada em novos dados de sensores IoT\n",
    "def recomendacao_manutencao(novo_dado):\n",
    "    \n",
    "    # Definir os nomes das colunas conforme o scaler foi ajustado\n",
    "    colunas = ['vibracao', 'temperatura', 'pressao', 'umidade', 'horas_trabalho']\n",
    "    \n",
    "    # Converter os novos dados para DataFrame com os nomes de colunas corretos\n",
    "    novo_dado_df = pd.DataFrame([novo_dado], columns = colunas)\n",
    "    \n",
    "    # Aplicar o scaler aos novos dados\n",
    "    novo_dado_scaled = scaler_v1.transform(novo_dado_df)\n",
    "    \n",
    "    # Fazer a previsão\n",
    "    predicao = modelo_v1.predict(novo_dado_scaled)\n",
    "    \n",
    "    if predicao == 1:\n",
    "        return \"Recomendação: Realizar manutenção.\"\n",
    "    else:\n",
    "        return \"Recomendação: Nenhuma manutenção necessária.\""
   ]
  },
  {
   "cell_type": "code",
   "execution_count": 62,
   "id": "5985f275",
   "metadata": {},
   "outputs": [
    {
     "name": "stdout",
     "output_type": "stream",
     "text": [
      "Recomendação: Realizar manutenção.\n"
     ]
    }
   ],
   "source": [
    "# Exemplo de novos dados de sensores IoT \n",
    "novos_dados_1 = [0.5, 80, 102, 45, 8000]\n",
    "print(recomendacao_manutencao(novos_dados_1))"
   ]
  },
  {
   "cell_type": "code",
   "execution_count": 63,
   "id": "a33db05a",
   "metadata": {},
   "outputs": [
    {
     "name": "stdout",
     "output_type": "stream",
     "text": [
      "Recomendação: Nenhuma manutenção necessária.\n"
     ]
    }
   ],
   "source": [
    "# Exemplo de novos dados de sensores IoT \n",
    "novos_dados_2 = [0.89, 92, 96, 70, 600]\n",
    "print(recomendacao_manutencao(novos_dados_2))"
   ]
  },
  {
   "cell_type": "code",
   "execution_count": 64,
   "id": "0798f8e2",
   "metadata": {},
   "outputs": [
    {
     "name": "stdout",
     "output_type": "stream",
     "text": [
      "Author: Marcelo Medeiros | Cientista de Dados\n",
      "\n"
     ]
    }
   ],
   "source": [
    "%watermark -a \"Marcelo Medeiros | Cientista de Dados\""
   ]
  },
  {
   "cell_type": "code",
   "execution_count": 65,
   "id": "ac429bcd",
   "metadata": {
    "scrolled": true
   },
   "outputs": [
    {
     "name": "stdout",
     "output_type": "stream",
     "text": [
      "Python implementation: CPython\n",
      "Python version       : 3.11.5\n",
      "IPython version      : 8.15.0\n",
      "\n",
      "Compiler    : MSC v.1916 64 bit (AMD64)\n",
      "OS          : Windows\n",
      "Release     : 10\n",
      "Machine     : AMD64\n",
      "Processor   : Intel64 Family 6 Model 140 Stepping 1, GenuineIntel\n",
      "CPU cores   : 8\n",
      "Architecture: 64bit\n",
      "\n"
     ]
    }
   ],
   "source": [
    "%watermark -v -m"
   ]
  },
  {
   "cell_type": "code",
   "execution_count": 66,
   "id": "add3c58e",
   "metadata": {},
   "outputs": [
    {
     "name": "stdout",
     "output_type": "stream",
     "text": [
      "lightgbm: 4.5.0\n",
      "pandas  : 2.0.3\n",
      "joblib  : 1.2.0\n",
      "sklearn : 1.3.0\n",
      "numpy   : 1.24.3\n",
      "\n"
     ]
    }
   ],
   "source": [
    "%watermark --iversions"
   ]
  },
  {
   "cell_type": "markdown",
   "id": "b17071f7",
   "metadata": {},
   "source": [
    "# FIM"
   ]
  }
 ],
 "metadata": {
  "kernelspec": {
   "display_name": "Python 3 (ipykernel)",
   "language": "python",
   "name": "python3"
  },
  "language_info": {
   "codemirror_mode": {
    "name": "ipython",
    "version": 3
   },
   "file_extension": ".py",
   "mimetype": "text/x-python",
   "name": "python",
   "nbconvert_exporter": "python",
   "pygments_lexer": "ipython3",
   "version": "3.11.5"
  }
 },
 "nbformat": 4,
 "nbformat_minor": 5
}
